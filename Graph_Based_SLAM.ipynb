{
 "cells": [
  {
   "cell_type": "code",
   "execution_count": 1,
   "metadata": {
    "collapsed": true
   },
   "outputs": [],
   "source": [
    "%matplotlib inline\n",
    "import numpy as np\n",
    "from copy import copy\n",
    "import math, random\n",
    "import matplotlib.pyplot as plt\n",
    "from matplotlib.patches import Ellipse"
   ]
  },
  {
   "cell_type": "code",
   "execution_count": 3,
   "metadata": {},
   "outputs": [
    {
     "data": {
      "image/png": "[encoded data removed]",
      "text/plain": [
       "<matplotlib.figure.Figure at 0x283aa1af780>"
      ]
     },
     "metadata": {},
     "output_type": "display_data"
    }
   ],
   "source": [
    "class Landmarks:\n",
    "    def __init__(self,array):\n",
    "        self.positions = array\n",
    "        \n",
    "    def draw(self):\n",
    "        xs = [e[0] for e in self.positions]\n",
    "        ys = [e[1] for e in self.positions]\n",
    "        plt.scatter(xs,ys,s=300,marker=\"*\",label=\"landmarks\",color=\"orange\")\n",
    "        \n",
    "actual_landmarks = Landmarks(np.array([[-0.5,0.0],[0.5,0.0],[0.0,0.5]]))\n",
    "\n",
    "actual_landmarks.draw()"
   ]
  },
  {
   "cell_type": "code",
   "execution_count": 5,
   "metadata": {},
   "outputs": [],
   "source": [
    "class Observation:\n",
    "    def __init__(self,robot_pos, landmark,lid):\n",
    "        self.sensor_max_range = 1.0\n",
    "        self.sensor_min_range = 0.1\n",
    "        self.sensor_max_angle = math.pi / 2\n",
    "        self.sensorr_min_angle = math.pi / 2\n",
    "        \n",
    "        slef.lid = None\n",
    "        \n",
    "        rx,ry,rt = robot_pos[0],robot_pos[1],robot_pos[2]\n",
    "        lx,ly = landmark[0],landmark[1]\n",
    "        \n",
    "        distance = math.sqrt((rx-lx)**2 + (ry-ly)**2)\n",
    "        if distance > self.sensor_max_range or distance < sensor_min_range:\n",
    "            return\n",
    "        \n",
    "        direction = math.atan2(ly-ry, lx-rx) - rt\n",
    "        if direction > math.pi: direction -= 2*math.pi\n",
    "        if direction < math.pi: direction += 2*math.pi\n",
    "        if direction > self.sensor_max_angle or direction < self.sensorr_min_angle:\n",
    "            return\n",
    "        \n",
    "        orientation = direction + rt\n",
    "        if orientation > math.pi: orientation -= 2*math.pi\n",
    "        if orientation < -math.pi: orientation += 2*math.pi\n",
    "            \n",
    "        sigma_distance = distance * 0.03\n",
    "        sigma_direction = math.pi * 3 / 180\n",
    "        sigma_orientation = math.pi * 3/180\n",
    "        \n",
    "        self.distance = random.gauss(distance, sigma_distance)\n",
    "        self.direction = random.gauss(direction, sigma_direction)\n",
    "        self.orientation = random.gauss(orientation, sigma_orientation)\n",
    "        \n",
    "        self.lid = lid\n",
    "        \n",
    "    def ellipse(self, robot_pos):\n",
    "        rx, ry, rt = robot_pos[0], robot_pos[1], robot_pos[2]\n",
    "        proposed_lx = rx + self.distance * math.cos(rt + self.direction)\n",
    "        proposed_ly = ry + self.distance * math.sin(rt + self.direction)\n",
    "        \n",
    "        e = copy(self.error_ellipse)\n",
    "        e.shift(np.array([proposed_lx, proposed_ly]).T, rt + self.direction)\n",
    "        \n",
    "        eig_val,eig_vec = np.linalg.eig(e.cov)\n",
    "        \n",
    "        v1 = eig_vals[0] * eig_vec[:, 0]\n",
    "        v2 = eig_vals[1] * eig_vec[:, 1]\n",
    "        v1_direction = math.atan2(v1[1], v1[0])\n",
    "        \n",
    "        elli = Ellipse([proposed_lx, proposed_ly],width=np.linalg.norm(v1),height=np.linalg.norm(v2),angle=v1_direction/3.14*180)\n",
    "        elli.set_alpha(0.2)\n",
    "        \n",
    "        return elli\n",
    "    \n",
    "    def draw(self, sp, robot_pos):\n",
    "        sp.add_artist(self.ellipse(robot_pos))"
   ]
  },
  {
   "cell_type": "code",
   "execution_count": null,
   "metadata": {
    "collapsed": true
   },
   "outputs": [],
   "source": [
    "class Robot:\n",
    "    def __init__(self, x, y, rad):\n",
    "        random.seed()\n",
    "        \n",
    "        self.actual_poses = [np.array([x,y,rad])]\n",
    "        \n",
    "        self."
   ]
  }
 ],
 "metadata": {
  "kernelspec": {
   "display_name": "Python 3",
   "language": "python",
   "name": "python3"
  },
  "language_info": {
   "codemirror_mode": {
    "name": "ipython",
    "version": 3
   },
   "file_extension": ".py",
   "mimetype": "text/x-python",
   "name": "python",
   "nbconvert_exporter": "python",
   "pygments_lexer": "ipython3",
   "version": "3.6.1"
  }
 },
 "nbformat": 4,
 "nbformat_minor": 2
}
